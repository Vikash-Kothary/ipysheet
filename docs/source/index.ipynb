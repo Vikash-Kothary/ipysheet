{
 "cells": [
  {
   "cell_type": "markdown",
   "metadata": {},
   "source": [
    "# Spreadsheet widget for the Jupyter Notebook\n",
    "## Installation\n",
    "\n",
    "With conda:\n",
    "\n",
    "```\n",
    "$ conda install -c conda-forge ipysheet\n",
    "```\n",
    "\n",
    "With pip:\n",
    "\n",
    "```\n",
    "$ pip install ipysheet\n",
    "```\n",
    "\n",
    "To make it work for Jupyter lab:\n",
    "```\n",
    "$ jupyter labextension install ipysheet\n",
    "```\n",
    "\n",
    "If you have notebook 5.2 or below, you also need to execute:\n",
    "```\n",
    "$ jupyter nbextension enable --py --sys-prefix ipysheet\n",
    "```"
   ]
  },
  {
   "cell_type": "markdown",
   "metadata": {},
   "source": [
    "# Getting started\n",
    "Although ipysheet contains an object oriented interface, we recomment using the \"state machine\" based interface, similar to matplotlib's pyplot/pylab interface. Comparible to matplotlib pylab interface, this interface keeps track of the current sheet. Using the [cell](api.rst#ipysheet.easy.cell) function, [Cell](api.rst#ipysheet.sheet.Cell) widgets are added to the current sheet.\n",
    "\n",
    "Importing ipysheet and invoking the [sheet](api.rst#ipysheet.easy.sheet) function will create the default spreadsheet widget. The function returns a [Sheet](api.rst#ipysheet.sheet.Sheet) instance, leaving that expression as a last statement of a code cell will display it, otherwise use `display(sheet)`.\n",
    "\n",
    "Note that this documentation is a Jupyter notebook, and you can try it out directly on Binder:\n",
    "[![Binder](https://mybinder.org/badge.svg)](https://mybinder.org/v2/gh/jupyter-widgets-contrib/ipysheet/master?filepath=docs%2Fsource%2Findex.ipynb)"
   ]
  },
  {
   "cell_type": "code",
   "execution_count": 1,
   "metadata": {},
   "outputs": [
    {
     "data": {
      "application/vnd.jupyter.widget-view+json": {
       "model_id": "9240a454a1c0450eb5b5bbb8260cb74f",
       "version_major": 2,
       "version_minor": 0
      },
      "text/plain": [
       "Sheet(columns=5, layout=Layout(height='auto', width='auto'), rows=5)"
      ]
     },
     "metadata": {},
     "output_type": "display_data"
    }
   ],
   "source": [
    "import ipysheet\n",
    "sheet = ipysheet.sheet()\n",
    "sheet"
   ]
  },
  {
   "cell_type": "markdown",
   "metadata": {},
   "source": [
    "Using the [cell](api.rst#ipysheet.easy.cell) function, we can create [Cell](api.rst#ipysheet.sheet.Cell) widgets that are directly added to the current sheet."
   ]
  },
  {
   "cell_type": "code",
   "execution_count": 2,
   "metadata": {},
   "outputs": [
    {
     "data": {
      "application/vnd.jupyter.widget-view+json": {
       "model_id": "dc5faebcb39a46b4bab9fe1d6ac59dd1",
       "version_major": 2,
       "version_minor": 0
      },
      "text/plain": [
       "Sheet(cells=(Cell(column_end=0, column_start=0, row_end=0, row_start=0, type='text', value='Hello'), Cell(colu…"
      ]
     },
     "metadata": {},
     "output_type": "display_data"
    }
   ],
   "source": [
    "sheet = ipysheet.sheet(rows=3, columns=4)\n",
    "cell1 = ipysheet.cell(0, 0, 'Hello')\n",
    "cell2 = ipysheet.cell(2, 0, 'World')\n",
    "cell_value = ipysheet.cell(2,2, 42.)\n",
    "sheet"
   ]
  },
  {
   "cell_type": "markdown",
   "metadata": {},
   "source": [
    "# Events\n",
    "Using link or observe we can link widgets together, or attach event handlers"
   ]
  },
  {
   "cell_type": "markdown",
   "metadata": {
    "raw_mimetype": "text/html"
   },
   "source": [
    "\n",
    "<div class=\"alert alert-warning\">\n",
    "\n",
    "**Note:** The examples below contain event handler written in Python that needs a running kernel, they will not work in the pure html documentation. They do work in binder!\n",
    "\n",
    "</div>\n"
   ]
  },
  {
   "cell_type": "code",
   "execution_count": 3,
   "metadata": {},
   "outputs": [
    {
     "data": {
      "application/vnd.jupyter.widget-view+json": {
       "model_id": "15f35d4e95474f348b8f364b5b7bdf01",
       "version_major": 2,
       "version_minor": 0
      },
      "text/plain": [
       "VBox(children=(Sheet(cells=(Cell(column_end=1, column_start=1, row_end=0, row_start=0, type='numeric', value=1…"
      ]
     },
     "metadata": {},
     "output_type": "display_data"
    }
   ],
   "source": [
    "import ipywidgets as widgets\n",
    "sheet = ipysheet.sheet(rows=3, columns=2, column_headers=False, row_headers=False)\n",
    "cell_a = ipysheet.cell(0, 1, 1, label_left='a')\n",
    "cell_b = ipysheet.cell(1, 1, 2, label_left='b')\n",
    "cell_sum = ipysheet.cell(2, 1, 3, label_left='sum', read_only=True)\n",
    "\n",
    "# create a slider linked to cell a\n",
    "slider = widgets.FloatSlider(min=-10, max=10, description='a')\n",
    "widgets.jslink((cell_a, 'value'), (slider, 'value'))\n",
    "\n",
    "# changes in a or b should trigger this function\n",
    "def calculate(change):\n",
    "    cell_sum.value = cell_a.value + cell_b.value\n",
    "\n",
    "cell_a.observe(calculate, 'value')\n",
    "cell_b.observe(calculate, 'value')\n",
    "\n",
    "\n",
    "widgets.VBox([sheet, slider])"
   ]
  },
  {
   "cell_type": "markdown",
   "metadata": {},
   "source": [
    "# Cell ranges\n",
    "Instead of referring to a single cell, we can also refer to cell ranges, rows and columns."
   ]
  },
  {
   "cell_type": "code",
   "execution_count": 4,
   "metadata": {},
   "outputs": [
    {
     "data": {
      "application/vnd.jupyter.widget-view+json": {
       "model_id": "331eb1d230d04a2b9cf22ff0e7d34221",
       "version_major": 2,
       "version_minor": 0
      },
      "text/plain": [
       "Sheet(cells=(Cell(column_end=3, column_start=0, row_end=0, row_start=0, squeeze_column=False, style={'backgrou…"
      ]
     },
     "metadata": {},
     "output_type": "display_data"
    }
   ],
   "source": [
    "sheet = ipysheet.sheet(rows=5, columns=4)\n",
    "row = ipysheet.row(0, [0, 1, 2, 3], background_color=\"red\")\n",
    "column = ipysheet.column(1, [\"a\", \"b\", \"c\", \"d\"], row_start=1, background_color=\"green\")\n",
    "cells = ipysheet.cell_range([[\"hi\", \"ola\"], [\"ciao\", \"bonjour\"], [\"hallo\", \"guten tag\"]],\n",
    "                            row_start=1, column_start=2, background_color=\"yellow\")\n",
    "sheet\n"
   ]
  },
  {
   "cell_type": "markdown",
   "metadata": {},
   "source": [
    "## Calculations\n",
    "Since this is such a common pattern, a helper decorator [calculation](api.rst#ipysheet.easy.calculation) is provided, shortening the above code considerably."
   ]
  },
  {
   "cell_type": "code",
   "execution_count": 5,
   "metadata": {},
   "outputs": [
    {
     "data": {
      "application/vnd.jupyter.widget-view+json": {
       "model_id": "ee569f56091c4b069b0ee13367c33a60",
       "version_major": 2,
       "version_minor": 0
      },
      "text/plain": [
       "VBox(children=(Sheet(cells=(Cell(column_end=1, column_start=1, row_end=0, row_start=0, type='numeric', value=1…"
      ]
     },
     "metadata": {},
     "output_type": "display_data"
    }
   ],
   "source": [
    "import ipywidgets as widgets\n",
    "sheet = ipysheet.sheet(rows=3, columns=2, column_headers=False, row_headers=False)\n",
    "cell_a = ipysheet.cell(0, 1, 1, label_left='a')\n",
    "cell_b = ipysheet.cell(1, 1, 2, label_left='b')\n",
    "cell_sum = ipysheet.cell(2, 1, 3, label_left='sum', read_only=True)\n",
    "\n",
    "# create a slider linked to cell a\n",
    "slider = widgets.FloatSlider(min=-10, max=10, description='a')\n",
    "widgets.jslink((cell_a, 'value'), (slider, 'value'))\n",
    "\n",
    "@ipysheet.calculation(inputs=[cell_a, cell_b], output=cell_sum)\n",
    "def calculate(a, b):\n",
    "    return a + b\n",
    "\n",
    "widgets.VBox([sheet, slider])"
   ]
  },
  {
   "cell_type": "markdown",
   "metadata": {},
   "source": [
    "# Renderers\n",
    "ipysheet is build on Handsontable, which allows [custom renderers](https://docs.handsontable.com/demo-custom-renderers.html), which we also support."
   ]
  },
  {
   "cell_type": "code",
   "execution_count": 6,
   "metadata": {},
   "outputs": [],
   "source": [
    "jscode_renderer_negative = \"\"\"function (value) {\n",
    "  return {\n",
    "    backgroundColor: value < 0 ?  'red' : 'green'\n",
    "  };\n",
    "}\n",
    "\"\"\"\n",
    "ipysheet.renderer(code=jscode_renderer_negative, name='negative');"
   ]
  },
  {
   "cell_type": "code",
   "execution_count": 7,
   "metadata": {},
   "outputs": [
    {
     "data": {
      "application/vnd.jupyter.widget-view+json": {
       "model_id": "120d773208664b28a62edb6279d39e52",
       "version_major": 2,
       "version_minor": 0
      },
      "text/plain": [
       "Sheet(cells=(Cell(column_end=3, column_start=0, renderer='negative', row_end=2, row_start=0, squeeze_column=Fa…"
      ]
     },
     "metadata": {},
     "output_type": "display_data"
    }
   ],
   "source": [
    "import random\n",
    "s = ipysheet.sheet(rows=3, columns=4)\n",
    "data = [[random.randint(-10, 10) for j in range(4)] for j in range(3)]\n",
    "ipysheet.cell_range(data, renderer='negative')\n",
    "s"
   ]
  },
  {
   "cell_type": "markdown",
   "metadata": {},
   "source": [
    "If [flexx](http://flexx.readthedocs.io/en/stable/pyscript/index.html) is installed, Python code can be transpiled to JavaScript at runtime."
   ]
  },
  {
   "cell_type": "code",
   "execution_count": 8,
   "metadata": {},
   "outputs": [],
   "source": [
    "def renderer_negative(value):\n",
    "    return {\n",
    "        'backgroundColor': 'orange' if value < 0 else ''\n",
    "    }\n",
    "ipysheet.renderer(code=renderer_negative, name='negative_transpiled');"
   ]
  },
  {
   "cell_type": "code",
   "execution_count": 9,
   "metadata": {},
   "outputs": [
    {
     "data": {
      "application/vnd.jupyter.widget-view+json": {
       "model_id": "96f01acbd7054929b95d9b6a93e80ec1",
       "version_major": 2,
       "version_minor": 0
      },
      "text/plain": [
       "Sheet(cells=(Cell(column_end=3, column_start=0, renderer='negative_transpiled', row_end=2, row_start=0, squeez…"
      ]
     },
     "metadata": {},
     "output_type": "display_data"
    }
   ],
   "source": [
    "import random\n",
    "s = ipysheet.sheet(rows=3, columns=4)\n",
    "data = [[random.randint(-10, 10) for j in range(4)] for j in range(3)]\n",
    "ipysheet.cell_range(data, renderer='negative_transpiled')\n",
    "s"
   ]
  },
  {
   "cell_type": "markdown",
   "metadata": {
    "nbsphinx-toctree": {}
   },
   "source": [
    "[api](api.rst)"
   ]
  }
 ],
 "metadata": {
  "celltoolbar": "Raw Cell Format",
  "kernelspec": {
   "display_name": "Python 3",
   "language": "python",
   "name": "python3"
  },
  "language_info": {
   "codemirror_mode": {
    "name": "ipython",
    "version": 3
   },
   "file_extension": ".py",
   "mimetype": "text/x-python",
   "name": "python",
   "nbconvert_exporter": "python",
   "pygments_lexer": "ipython3",
   "version": "3.7.3"
  },
  "widgets": {
   "application/vnd.jupyter.widget-state+json": {
    "state": {
     "078a93ab3a954e6e9fd0cb309683ad9a": {
      "model_module": "ipysheet",
      "model_module_version": "~0.4.1",
      "model_name": "CellRangeModel",
      "state": {
       "_view_module": null,
       "_view_module_version": "",
       "column_end": 3,
       "column_start": 0,
       "renderer": "negative_transpiled",
       "row_end": 2,
       "row_start": 0,
       "squeeze_column": false,
       "squeeze_row": false,
       "type": "numeric",
       "value": [
        [
         -4,
         -3,
         -1,
         9
        ],
        [
         -1,
         9,
         -6,
         9
        ],
        [
         -9,
         9,
         -1,
         -9
        ]
       ]
      }
     },
     "120d773208664b28a62edb6279d39e52": {
      "model_module": "ipysheet",
      "model_module_version": "~0.4.1",
      "model_name": "SheetModel",
      "state": {
       "cells": [
        "IPY_MODEL_1e98bbb1a81b414691f47a167cf7d12f"
       ],
       "layout": "IPY_MODEL_c1dbe91c4db244ceb857f8ce9401cc6a"
      }
     },
     "155748346e0a4bfbaa4a6cdd209755f5": {
      "model_module": "@jupyter-widgets/base",
      "model_module_version": "1.1.0",
      "model_name": "LayoutModel",
      "state": {
       "height": "auto",
       "width": "auto"
      }
     },
     "15f35d4e95474f348b8f364b5b7bdf01": {
      "model_module": "@jupyter-widgets/controls",
      "model_module_version": "1.4.0",
      "model_name": "VBoxModel",
      "state": {
       "children": [
        "IPY_MODEL_9ed9cb9f61294fb0b9a97848d193c1db",
        "IPY_MODEL_3a02c16fe28c4f269b15eea3914114b6"
       ],
       "layout": "IPY_MODEL_418d6f810c4c49e18b5310d205dba504"
      }
     },
     "1e98bbb1a81b414691f47a167cf7d12f": {
      "model_module": "ipysheet",
      "model_module_version": "~0.4.1",
      "model_name": "CellRangeModel",
      "state": {
       "_view_module": null,
       "_view_module_version": "",
       "column_end": 3,
       "column_start": 0,
       "renderer": "negative",
       "row_end": 2,
       "row_start": 0,
       "squeeze_column": false,
       "squeeze_row": false,
       "type": "numeric",
       "value": [
        [
         10,
         3,
         1,
         9
        ],
        [
         -5,
         7,
         -3,
         7
        ],
        [
         1,
         10,
         -3,
         1
        ]
       ]
      }
     },
     "1f92a18646e94c68b9424fdbc6bff1f4": {
      "model_module": "@jupyter-widgets/base",
      "model_module_version": "1.1.0",
      "model_name": "LayoutModel",
      "state": {
       "height": "auto",
       "width": "auto"
      }
     },
     "260d446590784781b0ea1079242ee098": {
      "model_module": "ipysheet",
      "model_module_version": "~0.4.1",
      "model_name": "RendererModel",
      "state": {
       "_view_module": "ipysheet",
       "_view_module_version": "~0.4.1",
       "code": "\nfunction() {\n                  var the_renderer;\n                the_renderer = function flx_the_renderer (value) {\n                    return ({backgroundColor: ((value < 0))? (\"orange\") : (\"\")});\n                };\n\n  return the_renderer\n\n}()\n",
       "name": "negative_transpiled"
      }
     },
     "2733376ab7f14d4dbe107138963c2214": {
      "model_module": "@jupyter-widgets/base",
      "model_module_version": "1.1.0",
      "model_name": "LayoutModel",
      "state": {
       "height": "auto",
       "width": "auto"
      }
     },
     "2ae00660ce774f22ab24da60c086fc0e": {
      "model_module": "ipysheet",
      "model_module_version": "~0.4.1",
      "model_name": "CellRangeModel",
      "state": {
       "_view_module": null,
       "_view_module_version": "",
       "read_only": true,
       "row_end": 2,
       "row_start": 2,
       "type": "numeric",
       "value": 3
      }
     },
     "2c4fa222b61a4d518c6a40c92b040f11": {
      "model_module": "@jupyter-widgets/controls",
      "model_module_version": "1.4.0",
      "model_name": "FloatSliderModel",
      "state": {
       "description": "a",
       "layout": "IPY_MODEL_d91e09a8701e4888a34550824908ab8c",
       "max": 10,
       "min": -10,
       "step": 0.1,
       "style": "IPY_MODEL_714d355de86d4881b34fb804fe770008",
       "value": 1
      }
     },
     "331eb1d230d04a2b9cf22ff0e7d34221": {
      "model_module": "ipysheet",
      "model_module_version": "~0.4.1",
      "model_name": "SheetModel",
      "state": {
       "cells": [
        "IPY_MODEL_69590c5315e34d6e884458c4ed1271ec",
        "IPY_MODEL_e93dd6c4fb4240478c3cbb535bf3d478",
        "IPY_MODEL_a8546559d0c544af840ac5212b3fe9fd"
       ],
       "layout": "IPY_MODEL_41c13784e4714966adcb8ae3d44178db",
       "rows": 5
      }
     },
     "3a02c16fe28c4f269b15eea3914114b6": {
      "model_module": "@jupyter-widgets/controls",
      "model_module_version": "1.4.0",
      "model_name": "FloatSliderModel",
      "state": {
       "description": "a",
       "layout": "IPY_MODEL_7a9609f5eb3d444485201b9424cc45eb",
       "max": 10,
       "min": -10,
       "step": 0.1,
       "style": "IPY_MODEL_3f8af119d77d4a508b090398dff5a8fd",
       "value": 1
      }
     },
     "3f8af119d77d4a508b090398dff5a8fd": {
      "model_module": "@jupyter-widgets/controls",
      "model_module_version": "1.4.0",
      "model_name": "SliderStyleModel",
      "state": {
       "description_width": ""
      }
     },
     "402e691da01e4dd2af5ef3f97e91d0a5": {
      "model_module": "ipysheet",
      "model_module_version": "~0.4.1",
      "model_name": "RendererModel",
      "state": {
       "_view_module": "ipysheet",
       "_view_module_version": "~0.4.1",
       "code": "function (value) {\n  return {\n    backgroundColor: value < 0 ?  'red' : 'green'\n  };\n}\n",
       "name": "negative"
      }
     },
     "418d6f810c4c49e18b5310d205dba504": {
      "model_module": "@jupyter-widgets/base",
      "model_module_version": "1.1.0",
      "model_name": "LayoutModel",
      "state": {}
     },
     "41c13784e4714966adcb8ae3d44178db": {
      "model_module": "@jupyter-widgets/base",
      "model_module_version": "1.1.0",
      "model_name": "LayoutModel",
      "state": {
       "height": "auto",
       "width": "auto"
      }
     },
     "43172e8bacd645bca0c4289ea6de15f4": {
      "model_module": "@jupyter-widgets/base",
      "model_module_version": "1.1.0",
      "model_name": "LayoutModel",
      "state": {
       "height": "auto",
       "width": "auto"
      }
     },
     "535bb3899bcf426389df0a9ed97c4e3d": {
      "model_module": "ipysheet",
      "model_module_version": "~0.4.1",
      "model_name": "CellRangeModel",
      "state": {
       "_view_module": null,
       "_view_module_version": "",
       "type": "numeric",
       "value": 2
      }
     },
     "593c55e36b1e449fba9193764c1b00ce": {
      "model_module": "ipysheet",
      "model_module_version": "~0.4.1",
      "model_name": "SheetModel",
      "state": {
       "cells": [
        "IPY_MODEL_b1fde7c30c954ad8b0198bc66b28a121",
        "IPY_MODEL_aa085b146c2241c0929ced4f8d0b8cc3",
        "IPY_MODEL_8a9a9bdb7f104943b53b06d9943c3a45",
        "IPY_MODEL_ba0c6a1a21624d82aa23f75afdc7666c",
        "IPY_MODEL_2ae00660ce774f22ab24da60c086fc0e",
        "IPY_MODEL_90541fb1218742e4bcacfe67b9ee4180"
       ],
       "column_headers": false,
       "columns": 2,
       "layout": "IPY_MODEL_43172e8bacd645bca0c4289ea6de15f4",
       "row_headers": false
      }
     },
     "6476661bcf82408dbc65f220605068dc": {
      "model_module": "ipysheet",
      "model_module_version": "~0.4.1",
      "model_name": "CellRangeModel",
      "state": {
       "_view_module": null,
       "_view_module_version": "",
       "read_only": true,
       "row_end": 2,
       "row_start": 2,
       "type": "numeric",
       "value": 3
      }
     },
     "69590c5315e34d6e884458c4ed1271ec": {
      "model_module": "ipysheet",
      "model_module_version": "~0.4.1",
      "model_name": "CellRangeModel",
      "state": {
       "_view_module": null,
       "_view_module_version": "",
       "column_end": 3,
       "column_start": 0,
       "row_end": 0,
       "row_start": 0,
       "squeeze_column": false,
       "style": {
        "backgroundColor": "red"
       },
       "type": "numeric",
       "value": [
        0,
        1,
        2,
        3
       ]
      }
     },
     "7096b52219184bbb99b0e8c2a834fcbb": {
      "model_module": "ipysheet",
      "model_module_version": "~0.4.1",
      "model_name": "CellRangeModel",
      "state": {
       "_view_module": null,
       "_view_module_version": "",
       "column_end": 0,
       "column_start": 0,
       "row_end": 0,
       "row_start": 0,
       "type": "text",
       "value": "Hello"
      }
     },
     "714d355de86d4881b34fb804fe770008": {
      "model_module": "@jupyter-widgets/controls",
      "model_module_version": "1.4.0",
      "model_name": "SliderStyleModel",
      "state": {
       "description_width": ""
      }
     },
     "7a9609f5eb3d444485201b9424cc45eb": {
      "model_module": "@jupyter-widgets/base",
      "model_module_version": "1.1.0",
      "model_name": "LayoutModel",
      "state": {}
     },
     "7e19d6589d564fcca765396f70c0b799": {
      "model_module": "ipysheet",
      "model_module_version": "~0.4.1",
      "model_name": "CellRangeModel",
      "state": {
       "_view_module": null,
       "_view_module_version": "",
       "column_end": 0,
       "column_start": 0,
       "row_end": 2,
       "row_start": 2,
       "type": "text",
       "value": "World"
      }
     },
     "85e2ce2478f04c629dda0e83829aab0d": {
      "model_module": "@jupyter-widgets/controls",
      "model_module_version": "1.4.0",
      "model_name": "LinkModel",
      "state": {
       "source": [
        "IPY_MODEL_f0faccde3e71426a96bf6a454802b5dd",
        "value"
       ],
       "target": [
        "IPY_MODEL_3a02c16fe28c4f269b15eea3914114b6",
        "value"
       ]
      }
     },
     "8a9a9bdb7f104943b53b06d9943c3a45": {
      "model_module": "ipysheet",
      "model_module_version": "~0.4.1",
      "model_name": "CellRangeModel",
      "state": {
       "_view_module": null,
       "_view_module_version": "",
       "type": "numeric",
       "value": 2
      }
     },
     "90541fb1218742e4bcacfe67b9ee4180": {
      "model_module": "ipysheet",
      "model_module_version": "~0.4.1",
      "model_name": "CellRangeModel",
      "state": {
       "_view_module": null,
       "_view_module_version": "",
       "column_end": 0,
       "column_start": 0,
       "row_end": 2,
       "row_start": 2,
       "style": {
        "fontWeight": "bold"
       },
       "type": "text",
       "value": "sum"
      }
     },
     "9240a454a1c0450eb5b5bbb8260cb74f": {
      "model_module": "ipysheet",
      "model_module_version": "~0.4.1",
      "model_name": "SheetModel",
      "state": {
       "columns": 5,
       "layout": "IPY_MODEL_2733376ab7f14d4dbe107138963c2214",
       "rows": 5
      }
     },
     "96f01acbd7054929b95d9b6a93e80ec1": {
      "model_module": "ipysheet",
      "model_module_version": "~0.4.1",
      "model_name": "SheetModel",
      "state": {
       "cells": [
        "IPY_MODEL_078a93ab3a954e6e9fd0cb309683ad9a"
       ],
       "layout": "IPY_MODEL_bfa652564a4041be993c7b9861a94fa2"
      }
     },
     "9ed9cb9f61294fb0b9a97848d193c1db": {
      "model_module": "ipysheet",
      "model_module_version": "~0.4.1",
      "model_name": "SheetModel",
      "state": {
       "cells": [
        "IPY_MODEL_f0faccde3e71426a96bf6a454802b5dd",
        "IPY_MODEL_bf3490b9d1f948c3ab227bc5d8bb5d23",
        "IPY_MODEL_535bb3899bcf426389df0a9ed97c4e3d",
        "IPY_MODEL_d860be8268d9499ba20855a4d1eaac84",
        "IPY_MODEL_6476661bcf82408dbc65f220605068dc",
        "IPY_MODEL_a6ee3cb412cf4bd3b88fcc68accb532e"
       ],
       "column_headers": false,
       "columns": 2,
       "layout": "IPY_MODEL_1f92a18646e94c68b9424fdbc6bff1f4",
       "row_headers": false
      }
     },
     "a6ee3cb412cf4bd3b88fcc68accb532e": {
      "model_module": "ipysheet",
      "model_module_version": "~0.4.1",
      "model_name": "CellRangeModel",
      "state": {
       "_view_module": null,
       "_view_module_version": "",
       "column_end": 0,
       "column_start": 0,
       "row_end": 2,
       "row_start": 2,
       "style": {
        "fontWeight": "bold"
       },
       "type": "text",
       "value": "sum"
      }
     },
     "a8546559d0c544af840ac5212b3fe9fd": {
      "model_module": "ipysheet",
      "model_module_version": "~0.4.1",
      "model_name": "CellRangeModel",
      "state": {
       "_view_module": null,
       "_view_module_version": "",
       "column_end": 3,
       "column_start": 2,
       "row_end": 3,
       "squeeze_column": false,
       "squeeze_row": false,
       "style": {
        "backgroundColor": "yellow"
       },
       "type": "text",
       "value": [
        [
         "hi",
         "ola"
        ],
        [
         "ciao",
         "bonjour"
        ],
        [
         "hallo",
         "guten tag"
        ]
       ]
      }
     },
     "aa085b146c2241c0929ced4f8d0b8cc3": {
      "model_module": "ipysheet",
      "model_module_version": "~0.4.1",
      "model_name": "CellRangeModel",
      "state": {
       "_view_module": null,
       "_view_module_version": "",
       "column_end": 0,
       "column_start": 0,
       "row_end": 0,
       "row_start": 0,
       "style": {
        "fontWeight": "bold"
       },
       "type": "text",
       "value": "a"
      }
     },
     "ae4747feb81646a8bf093db1b62ed0a8": {
      "model_module": "@jupyter-widgets/controls",
      "model_module_version": "1.4.0",
      "model_name": "LinkModel",
      "state": {
       "source": [
        "IPY_MODEL_b1fde7c30c954ad8b0198bc66b28a121",
        "value"
       ],
       "target": [
        "IPY_MODEL_2c4fa222b61a4d518c6a40c92b040f11",
        "value"
       ]
      }
     },
     "b1fde7c30c954ad8b0198bc66b28a121": {
      "model_module": "ipysheet",
      "model_module_version": "~0.4.1",
      "model_name": "CellRangeModel",
      "state": {
       "_view_module": null,
       "_view_module_version": "",
       "row_end": 0,
       "row_start": 0,
       "type": "numeric",
       "value": 1
      }
     },
     "ba0c6a1a21624d82aa23f75afdc7666c": {
      "model_module": "ipysheet",
      "model_module_version": "~0.4.1",
      "model_name": "CellRangeModel",
      "state": {
       "_view_module": null,
       "_view_module_version": "",
       "column_end": 0,
       "column_start": 0,
       "style": {
        "fontWeight": "bold"
       },
       "type": "text",
       "value": "b"
      }
     },
     "bf3490b9d1f948c3ab227bc5d8bb5d23": {
      "model_module": "ipysheet",
      "model_module_version": "~0.4.1",
      "model_name": "CellRangeModel",
      "state": {
       "_view_module": null,
       "_view_module_version": "",
       "column_end": 0,
       "column_start": 0,
       "row_end": 0,
       "row_start": 0,
       "style": {
        "fontWeight": "bold"
       },
       "type": "text",
       "value": "a"
      }
     },
     "bfa652564a4041be993c7b9861a94fa2": {
      "model_module": "@jupyter-widgets/base",
      "model_module_version": "1.1.0",
      "model_name": "LayoutModel",
      "state": {
       "height": "auto",
       "width": "auto"
      }
     },
     "c1dbe91c4db244ceb857f8ce9401cc6a": {
      "model_module": "@jupyter-widgets/base",
      "model_module_version": "1.1.0",
      "model_name": "LayoutModel",
      "state": {
       "height": "auto",
       "width": "auto"
      }
     },
     "c5cb3daa341842a8a77d33bdaed0d179": {
      "model_module": "ipysheet",
      "model_module_version": "~0.4.1",
      "model_name": "CellRangeModel",
      "state": {
       "_view_module": null,
       "_view_module_version": "",
       "column_end": 2,
       "column_start": 2,
       "row_end": 2,
       "row_start": 2,
       "type": "numeric",
       "value": 42
      }
     },
     "d860be8268d9499ba20855a4d1eaac84": {
      "model_module": "ipysheet",
      "model_module_version": "~0.4.1",
      "model_name": "CellRangeModel",
      "state": {
       "_view_module": null,
       "_view_module_version": "",
       "column_end": 0,
       "column_start": 0,
       "style": {
        "fontWeight": "bold"
       },
       "type": "text",
       "value": "b"
      }
     },
     "d91e09a8701e4888a34550824908ab8c": {
      "model_module": "@jupyter-widgets/base",
      "model_module_version": "1.1.0",
      "model_name": "LayoutModel",
      "state": {}
     },
     "dc5faebcb39a46b4bab9fe1d6ac59dd1": {
      "model_module": "ipysheet",
      "model_module_version": "~0.4.1",
      "model_name": "SheetModel",
      "state": {
       "cells": [
        "IPY_MODEL_7096b52219184bbb99b0e8c2a834fcbb",
        "IPY_MODEL_7e19d6589d564fcca765396f70c0b799",
        "IPY_MODEL_c5cb3daa341842a8a77d33bdaed0d179"
       ],
       "layout": "IPY_MODEL_155748346e0a4bfbaa4a6cdd209755f5"
      }
     },
     "e93dd6c4fb4240478c3cbb535bf3d478": {
      "model_module": "ipysheet",
      "model_module_version": "~0.4.1",
      "model_name": "CellRangeModel",
      "state": {
       "_view_module": null,
       "_view_module_version": "",
       "row_end": 4,
       "squeeze_row": false,
       "style": {
        "backgroundColor": "green"
       },
       "type": "text",
       "value": [
        "a",
        "b",
        "c",
        "d"
       ]
      }
     },
     "ee569f56091c4b069b0ee13367c33a60": {
      "model_module": "@jupyter-widgets/controls",
      "model_module_version": "1.4.0",
      "model_name": "VBoxModel",
      "state": {
       "children": [
        "IPY_MODEL_593c55e36b1e449fba9193764c1b00ce",
        "IPY_MODEL_2c4fa222b61a4d518c6a40c92b040f11"
       ],
       "layout": "IPY_MODEL_f099a6b43c1c4a009f8b06dbb068c287"
      }
     },
     "f099a6b43c1c4a009f8b06dbb068c287": {
      "model_module": "@jupyter-widgets/base",
      "model_module_version": "1.1.0",
      "model_name": "LayoutModel",
      "state": {}
     },
     "f0faccde3e71426a96bf6a454802b5dd": {
      "model_module": "ipysheet",
      "model_module_version": "~0.4.1",
      "model_name": "CellRangeModel",
      "state": {
       "_view_module": null,
       "_view_module_version": "",
       "row_end": 0,
       "row_start": 0,
       "type": "numeric",
       "value": 1
      }
     }
    },
    "version_major": 2,
    "version_minor": 0
   }
  }
 },
 "nbformat": 4,
 "nbformat_minor": 2
}
